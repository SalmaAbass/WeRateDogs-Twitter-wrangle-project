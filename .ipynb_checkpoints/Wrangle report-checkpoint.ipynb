{
 "cells": [
  {
   "cell_type": "markdown",
   "metadata": {},
   "source": [
    "# WeRateDog Twitter Wrangling Report"
   ]
  },
  {
   "cell_type": "markdown",
   "metadata": {},
   "source": [
    "## Gathering Data\n",
    "The Data for this project combined from three sources:\n",
    "1. The WeRateDogs Twitter archive csv file I download this file manually and uploaded it to my jupyter notebook using pandas red_csv finction.\n",
    "2. The tweet image predictions file is hosted in udacity's server i downloaded it programmatically using request library to makes a HTTP request and return the required content by using request.get,then saccess it using .content and save it to my computer in the same folder with name image-predictions.tsv, then open this file  using pandas read_csv function \n",
    "3. Favorite_count,retweet  is conducted by accessing twitter API using tweepy library then search favorite and retweet counts for each tweets_id in twitter archeive t, I stored the JSON data in a text file, then loaded what I needed into a pandas dataframe.\n",
    " "
   ]
  },
  {
   "cell_type": "markdown",
   "metadata": {},
   "source": [
    "## Assessing \n",
    "After gathering our data i visually and programmatically assess the data using value counts, number of non-null entries, and numeric summaries to detect and inspect any quality or tidiness issue .\n",
    "I notice that there is a lack of tidiness such as:\n",
    "1. There is three table when actually it sould be only one.\n",
    "2. Some columns should be comined into one column to make table easy to analyze like dog_stage,dog_type predicted.\n",
    "Also there are many quality issue for example:\n",
    "1. Wrong dogs name such as (a,the, very,...)\n",
    "2. Wrong rating\n",
    "3. unrelated twitter \n",
    "4. Erroneous data types\n",
    "\n"
   ]
  },
  {
   "cell_type": "markdown",
   "metadata": {},
   "source": [
    "##  Cleaning\n",
    "First I make a copy for each data to be able to look back to the messy data ,then i started to clean each issue  was defined in the assessing step programmatically as possible unless the issue are one-off occurrence .The cleaning step is mainly construct with three main steps:\n",
    "1. define\n",
    "2. code\n",
    "3. test \n"
   ]
  }
 ],
 "metadata": {
  "kernelspec": {
   "display_name": "Python 3",
   "language": "python",
   "name": "python3"
  },
  "language_info": {
   "codemirror_mode": {
    "name": "ipython",
    "version": 3
   },
   "file_extension": ".py",
   "mimetype": "text/x-python",
   "name": "python",
   "nbconvert_exporter": "python",
   "pygments_lexer": "ipython3",
   "version": "3.7.1"
  }
 },
 "nbformat": 4,
 "nbformat_minor": 2
}
